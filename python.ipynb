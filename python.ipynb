{
  "nbformat": 4,
  "nbformat_minor": 0,
  "metadata": {
    "colab": {
      "provenance": []
    },
    "kernelspec": {
      "name": "python3",
      "display_name": "Python 3"
    },
    "language_info": {
      "name": "python"
    }
  },
  "cells": [
    {
      "cell_type": "markdown",
      "source": [
        "1. What is Python, and why is it popular ?\n",
        " - python is a high level interpreted programming language known for its\n",
        "  simplicity. its was creaded by guido van rossum.\n",
        "  python popular:-\n",
        "  - easy to use and learn\n",
        "   python is simple.clean syntax and making it ideal for beginners\n",
        "  - python run in all major operating system like windows macos linux\n",
        "  - its have soo many libraries and tools\n",
        "\n",
        "2. what is an interpreter in Python ?   \n",
        " - An interpreter in Python is the program that reads and executes Python code\n",
        "   line by line, converting it into machine code that your computer can understand and run.\n",
        "\n",
        "3. What are pre-defined keywords in Python ?  \n",
        " - Pre-defined keywords in Python are special reserved words that have specific\n",
        "   meanings and purposes in the language. You can't use them as variable names, function names, or identifiers because Python uses them to define its syntax and structure.\n",
        "\n",
        "4. Can keywords be used as variable names ?\n",
        " - No we can't use Python keywords as variable names.\n",
        "\n",
        "5. What is mutability in Python ?\n",
        " - Mutability in Python refers to whether or not an object can be changed after\n",
        "   it's created.\n",
        "\n",
        "6. Why are lists mutable, but tuples are immutable ?\n",
        " - lists are mutable:\n",
        "   Lists are meant to store collections of items that can change — add, remove, or update.\n",
        " - tuples are immutable:\n",
        "   Tuples are meant for fixed collections of items\n",
        "\n",
        "7. What is the difference between “==” and “is” operators in Python ?\n",
        " - '==' means do these two things have the same value\n",
        " - 'is' means are these two things actually the same object in memory\n",
        "\n",
        "8. What are logical operators in Python ?\n",
        " - Logical Operators in Python are used to combine boolean expressions things that are either True or False.\n",
        " -there are 3 logical operation - and, or, not   \n",
        "\n",
        "9. What is type casting in Python ?\n",
        " - Type casting means converting one data type into another — like turning a string into a number, or a float into an integer.\n",
        "\n",
        "10. What is the difference between implicit and explicit type casting ?\n",
        " -Implicit Type Casting :\n",
        "   - This is done automatically by Python without the programmer's intervention.\n",
        "  -  Implicit type casting generally occurs when a smaller data type is converted to a larger data type (e.g., from int to float).\n",
        "\n",
        " -  Explicit Type Casting\n",
        " - This requires the programmer to manually convert one data type to another using functions like int(), float(), str(), etc.\n",
        " - It's used when you want to force a conversion, especially when there's a need to convert a larger data type to a smaller data type, or when converting between incompatible types.\n",
        "11. What is the purpose of conditional statements in Python ?\n",
        " - Conditional statements in Python are used to make decisions in your code. They allow your program to respond differently depending on whether certain conditions are True or False. This is a key concept in programming because it enables your code to have more flexibility and control.\n",
        " - Conditional Statements in Python are 'if' 'else if' 'else'\n",
        "\n",
        "12. How does the elif statement work ?\n",
        " - elif stands for \"else if\" and is used in Python to check multiple conditions. It is always used after an if statement to provide additional conditions to test, but only if the previous conditions were False.\n",
        "\n",
        "13.  What is the difference between for and while loops ?\n",
        " - for loop:Used when you know the number of iterations in advance (or are iterating over a collection, like a list).\n",
        " - while loop: Used when you don’t know the number of iterations in advance, and you want to repeat as long as a certain condition is True.\n",
        "\n",
        "14. Describe a scenario where a while loop is more suitable than a for loop.\n",
        " -  A while loop is more suitable than a for loop when you don't know how many\n",
        "  times you need to repeat an action in advance, and the loop needs to continue until a certain condition is met.\n",
        "  -Scenario Example: Repeated User Input\n",
        "   Imagine you're building a program that asks the user for their password repeatedly until they enter the correct one. You don't know how many attempts the user will need, so you use a while loop to keep asking for input until the condition (correct password) is met."
      ],
      "metadata": {
        "id": "y8rES2UpqgV9"
      }
    },
    {
      "cell_type": "code",
      "execution_count": 1,
      "metadata": {
        "id": "yq-EtVCyp0rw",
        "colab": {
          "base_uri": "https://localhost:8080/"
        },
        "outputId": "b8650838-1437-4ac3-96a6-103c882a4983"
      },
      "outputs": [
        {
          "output_type": "stream",
          "name": "stdout",
          "text": [
            "Hello, World!\n"
          ]
        }
      ],
      "source": [
        "# Write a Python program to print \"Hello, World!\"\n",
        "print(\"Hello, World!\")"
      ]
    },
    {
      "cell_type": "code",
      "source": [
        "# Write a Python program that displays your name and age.\n",
        "name = \"Aditya\"\n",
        "age = 20\n",
        "print(\"Name:\", name)\n",
        "print(\"Age:\", age)"
      ],
      "metadata": {
        "colab": {
          "base_uri": "https://localhost:8080/"
        },
        "id": "T_wr2OVRuXMz",
        "outputId": "cec4b873-a6fc-4bc5-9fab-a9a457345d6f"
      },
      "execution_count": 2,
      "outputs": [
        {
          "output_type": "stream",
          "name": "stdout",
          "text": [
            "Name: Aditya\n",
            "Age: 20\n"
          ]
        }
      ]
    },
    {
      "cell_type": "code",
      "source": [
        "# Write code to print all the pre-defined keywords in Python using the keyword library.\n",
        "import keyword\n",
        "print(\"Python Keywords:\", keyword.kwlist)"
      ],
      "metadata": {
        "colab": {
          "base_uri": "https://localhost:8080/"
        },
        "id": "GY0cg5tEuypp",
        "outputId": "8e2532b8-4e9d-4871-e165-2ed9ecc40f36"
      },
      "execution_count": 3,
      "outputs": [
        {
          "output_type": "stream",
          "name": "stdout",
          "text": [
            "Python Keywords: ['False', 'None', 'True', 'and', 'as', 'assert', 'async', 'await', 'break', 'class', 'continue', 'def', 'del', 'elif', 'else', 'except', 'finally', 'for', 'from', 'global', 'if', 'import', 'in', 'is', 'lambda', 'nonlocal', 'not', 'or', 'pass', 'raise', 'return', 'try', 'while', 'with', 'yield']\n"
          ]
        }
      ]
    },
    {
      "cell_type": "code",
      "source": [
        "# Write a program that checks if a given word is a Python keyword.\n",
        "import keyword\n",
        "word = input(\"Enter a word to check if it's a Python keyword: \")\n",
        "if keyword.iskeyword(word):\n",
        "    print(f\"'{word}' is a Python keyword.\")\n",
        "else:\n",
        "    print(f\"'{word}' is NOT a Python keyword.\")"
      ],
      "metadata": {
        "colab": {
          "base_uri": "https://localhost:8080/"
        },
        "id": "NCROM9nBvDRK",
        "outputId": "0263e00f-f606-4451-a5de-345eb6c982ad"
      },
      "execution_count": 4,
      "outputs": [
        {
          "output_type": "stream",
          "name": "stdout",
          "text": [
            "Enter a word to check if it's a Python keyword: if\n",
            "'if' is a Python keyword.\n"
          ]
        }
      ]
    },
    {
      "cell_type": "code",
      "source": [
        "# Create a list and tuple in Python, and demonstrate how attempting to change an element works differently for each.\n",
        "my_list = [1, 2, 3, 4, 5]\n",
        "my_tuple = (1, 2, 3, 4, 5)\n",
        "print(\"Original list:\", my_list)\n",
        "my_list[2] = 10\n",
        "print(\"Modified list:\", my_list)\n",
        "print(\"\\nOriginal tuple:\", my_tuple)\n",
        "try:\n",
        "    my_tuple[2] = 10\n",
        "except TypeError as e:\n",
        "    print(\"Error:\", e)"
      ],
      "metadata": {
        "colab": {
          "base_uri": "https://localhost:8080/"
        },
        "id": "JfoSO7t-vVYa",
        "outputId": "9ddc73b3-b9a4-47a3-c648-9a1f4bbdc159"
      },
      "execution_count": 5,
      "outputs": [
        {
          "output_type": "stream",
          "name": "stdout",
          "text": [
            "Original list: [1, 2, 3, 4, 5]\n",
            "Modified list: [1, 2, 10, 4, 5]\n",
            "\n",
            "Original tuple: (1, 2, 3, 4, 5)\n",
            "Error: 'tuple' object does not support item assignment\n"
          ]
        }
      ]
    },
    {
      "cell_type": "code",
      "source": [
        "# Write a function to demonstrate the behavior of mutable and immutable arguments.\n",
        "def change_values(a, b):\n",
        "    a = a + 1\n",
        "    b.append(4)\n",
        "    print(\"Inside function:\")\n",
        "    print(\"a =\", a)\n",
        "    print(\"b =\", b)\n",
        "x = 5\n",
        "y = [1, 2, 3]\n",
        "print(\"Before function call:\")\n",
        "print(\"x =\", x)\n",
        "print(\"y =\", y)\n",
        "change_values(x, y)\n",
        "print(\"\\nAfter function call:\")\n",
        "print(\"x =\", x)\n",
        "print(\"y =\", y)"
      ],
      "metadata": {
        "colab": {
          "base_uri": "https://localhost:8080/"
        },
        "id": "Lgt4sDFMvz-L",
        "outputId": "b27023a8-fe73-48e4-da68-03048e5d054f"
      },
      "execution_count": 6,
      "outputs": [
        {
          "output_type": "stream",
          "name": "stdout",
          "text": [
            "Before function call:\n",
            "x = 5\n",
            "y = [1, 2, 3]\n",
            "Inside function:\n",
            "a = 6\n",
            "b = [1, 2, 3, 4]\n",
            "\n",
            "After function call:\n",
            "x = 5\n",
            "y = [1, 2, 3, 4]\n"
          ]
        }
      ]
    },
    {
      "cell_type": "code",
      "source": [
        "# Write a program that performs basic arithmetic operations on two user-input numbers.\n",
        "num1 = float(input(\"Enter the first number: \"))\n",
        "num2 = float(input(\"Enter the second number: \"))\n",
        "addition = num1 + num2\n",
        "subtraction = num1 - num2\n",
        "multiplication = num1 * num2\n",
        "if num2 != 0:\n",
        "    division = num1 / num2\n",
        "else:\n",
        "    division = \"Undefined (division by zero)\"\n",
        "print(\"\\n--- Results ---\")\n",
        "print(\"Addition:\", addition)\n",
        "print(\"Subtraction:\", subtraction)\n",
        "print(\"Multiplication:\", multiplication)\n",
        "print(\"Division:\", division)"
      ],
      "metadata": {
        "colab": {
          "base_uri": "https://localhost:8080/"
        },
        "id": "nN61jqe8xOi2",
        "outputId": "a973f0fa-50af-43c6-a3e3-9ec544c94a25"
      },
      "execution_count": 7,
      "outputs": [
        {
          "output_type": "stream",
          "name": "stdout",
          "text": [
            "Enter the first number: 3\n",
            "Enter the second number: 3\n",
            "\n",
            "--- Results ---\n",
            "Addition: 6.0\n",
            "Subtraction: 0.0\n",
            "Multiplication: 9.0\n",
            "Division: 1.0\n"
          ]
        }
      ]
    },
    {
      "cell_type": "code",
      "source": [
        "# Write a program to demonstrate the use of logical operators.\n",
        "a = int(input(\"Enter first number: \"))\n",
        "b = int(input(\"Enter second number: \"))\n",
        "print(\"\\n--- Logical Operator Results ---\")\n",
        "print(\"a > 0 and b > 0:\", a > 0 and b > 0)\n",
        "print(\"a > 0 or b > 0:\", a > 0 or b > 0)\n",
        "print(\"not (a > 0):\", not (a > 0))"
      ],
      "metadata": {
        "colab": {
          "base_uri": "https://localhost:8080/"
        },
        "id": "2iWTLh4DxfBg",
        "outputId": "00cea931-9cd0-4033-ddae-9d933f008e16"
      },
      "execution_count": 8,
      "outputs": [
        {
          "output_type": "stream",
          "name": "stdout",
          "text": [
            "Enter first number: 7\n",
            "Enter second number: 7\n",
            "\n",
            "--- Logical Operator Results ---\n",
            "a > 0 and b > 0: True\n",
            "a > 0 or b > 0: True\n",
            "not (a > 0): False\n"
          ]
        }
      ]
    },
    {
      "cell_type": "code",
      "source": [
        "# Write a Python program to convert user input from string to integer, float, and boolean types.\n",
        "user_input = input(\"Enter a number: \")\n",
        "int_value = int(user_input)\n",
        "print(\"Integer:\", int_value)\n",
        "float_value = float(user_input)\n",
        "print(\"Float:\", float_value)\n",
        "bool_value = bool(user_input)\n",
        "print(\"Boolean:\", bool_value)\n"
      ],
      "metadata": {
        "colab": {
          "base_uri": "https://localhost:8080/"
        },
        "id": "_ip8seM7x7BN",
        "outputId": "072d661a-277a-4a3a-8dff-028d9b17c9b9"
      },
      "execution_count": 15,
      "outputs": [
        {
          "output_type": "stream",
          "name": "stdout",
          "text": [
            "Enter a number: 2\n",
            "Integer: 2\n",
            "Float: 2.0\n",
            "Boolean: True\n"
          ]
        }
      ]
    },
    {
      "cell_type": "code",
      "source": [
        "# Write code to demonstrate type casting with list elements.\n",
        "str_list = ['10', '20', '30', '40']\n",
        "int_list = [int(item) for item in str_list]\n",
        "float_list = [float(item) for item in str_list]\n",
        "print(\"Original (strings):\", str_list)\n",
        "print(\"As integers:\", int_list)\n",
        "print(\"As floats:\", float_list)"
      ],
      "metadata": {
        "colab": {
          "base_uri": "https://localhost:8080/"
        },
        "id": "2k0l76aPyXqV",
        "outputId": "e1035db3-4431-4255-8ddb-2d8c1e99ffa3"
      },
      "execution_count": 11,
      "outputs": [
        {
          "output_type": "stream",
          "name": "stdout",
          "text": [
            "Original (strings): ['10', '20', '30', '40']\n",
            "As integers: [10, 20, 30, 40]\n",
            "As floats: [10.0, 20.0, 30.0, 40.0]\n"
          ]
        }
      ]
    },
    {
      "cell_type": "code",
      "source": [
        "# Write a program that checks if a number is positive, negative, or zero.\n",
        "num = float(input(\"Enter a number: \"))\n",
        "if num > 0:\n",
        "    print(\"The number is positive.\")\n",
        "elif num < 0:\n",
        "    print(\"The number is negative.\")\n",
        "else:\n",
        "    print(\"The number is zero.\")\n"
      ],
      "metadata": {
        "colab": {
          "base_uri": "https://localhost:8080/"
        },
        "id": "ZvtgWp7KzFcg",
        "outputId": "5b0dbae6-3bab-4b40-ec49-724ad5ff250b"
      },
      "execution_count": 12,
      "outputs": [
        {
          "output_type": "stream",
          "name": "stdout",
          "text": [
            "Enter a number: 45\n",
            "The number is positive.\n"
          ]
        }
      ]
    },
    {
      "cell_type": "code",
      "source": [
        "# Write a for loop to print numbers from 1 to 10.\n",
        "for i in range(1, 11):\n",
        "    print(i)"
      ],
      "metadata": {
        "colab": {
          "base_uri": "https://localhost:8080/"
        },
        "id": "anu3vXlMzQi-",
        "outputId": "5d00a955-c594-464c-e07d-034f73ad859e"
      },
      "execution_count": 13,
      "outputs": [
        {
          "output_type": "stream",
          "name": "stdout",
          "text": [
            "1\n",
            "2\n",
            "3\n",
            "4\n",
            "5\n",
            "6\n",
            "7\n",
            "8\n",
            "9\n",
            "10\n"
          ]
        }
      ]
    },
    {
      "cell_type": "code",
      "source": [
        "# Write a Python program to find the sum of all even numbers between 1 and 50.\n",
        "total = 0\n",
        "for i in range(1, 51):\n",
        "    if i % 2 == 0:\n",
        "        total += i\n",
        "print(\"Sum of even numbers from 1 to 50 is:\", total)"
      ],
      "metadata": {
        "colab": {
          "base_uri": "https://localhost:8080/"
        },
        "id": "FSiFVZB3zqWM",
        "outputId": "979b9c98-a13e-4f83-aa9e-489a3ed323c6"
      },
      "execution_count": 14,
      "outputs": [
        {
          "output_type": "stream",
          "name": "stdout",
          "text": [
            "Sum of even numbers from 1 to 50 is: 650\n"
          ]
        }
      ]
    },
    {
      "cell_type": "code",
      "source": [
        "# Write a program to reverse a string using a while loop.\n",
        "\n",
        "user_input = input(\"Enter a string: \")\n",
        "reversed_string = \"\"\n",
        "index = len(user_input) - 1\n",
        "while index >= 0:\n",
        "    reversed_string += user_input[index]\n",
        "    index -= 1\n",
        "print(\"Reversed string:\", reversed_string)"
      ],
      "metadata": {
        "colab": {
          "base_uri": "https://localhost:8080/"
        },
        "id": "LSb9WKAaz3sc",
        "outputId": "48eb972a-b86a-4d30-b05b-6c425b0c3d4e"
      },
      "execution_count": 16,
      "outputs": [
        {
          "output_type": "stream",
          "name": "stdout",
          "text": [
            "Enter a string: aditya\n",
            "Reversed string: aytida\n"
          ]
        }
      ]
    },
    {
      "cell_type": "code",
      "source": [
        "# Write a Python program to calculate the factorial of a number provided by the user using a while loop.\n",
        "# Get user input\n",
        "num = int(input(\"Enter a number to calculate its factorial: \"))\n",
        "factorial = 1\n",
        "i = 1\n",
        "while i <= num:\n",
        "    factorial *= i\n",
        "    i += 1\n",
        "print(f\"Factorial of {num} is {factorial}\")"
      ],
      "metadata": {
        "colab": {
          "base_uri": "https://localhost:8080/"
        },
        "id": "RKSke6T32L6C",
        "outputId": "2d0c5df7-efcb-409c-875b-1111a6ab3ab1"
      },
      "execution_count": 17,
      "outputs": [
        {
          "output_type": "stream",
          "name": "stdout",
          "text": [
            "Enter a number to calculate its factorial: 3\n",
            "Factorial of 3 is 6\n"
          ]
        }
      ]
    }
  ]
}